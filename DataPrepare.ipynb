{
 "cells": [
  {
   "cell_type": "markdown",
   "id": "ff99c243-bb05-48b1-ae46-7aafceb46266",
   "metadata": {},
   "source": [
    "# Prepare necessary data\n",
    "\n",
    "Download 2D dataset from:\n",
    "https://surfer.nmr.mgh.harvard.edu/ftp/data/neurite/data/neurite-oasis.2d.v1.0.tar\n",
    "\n",
    "via:\n",
    "https://github.com/adalca/medical-datasets/blob/master/neurite-oasis.md\n",
    "\n",
    "Downlading the 2D dataset from Neurite OASIS, each subject has slice_norm.nii.gz, slice_orig.nii.gz, slice_seg4.nii.gz, and slice_seg24.nii.gz files. Of these, only the slice_norm.nii.gz and slice_seg24.nii.gz files are needed. For simplicity, make a copy of each subject folder with only these two files."
   ]
  },
  {
   "cell_type": "code",
   "execution_count": 1,
   "id": "a604117a-0004-4aa1-b575-f39b94b4c306",
   "metadata": {},
   "outputs": [],
   "source": [
    "import os\n",
    "import shutil\n",
    "import nibabel as nib\n",
    "import numpy as np\n",
    "import matplotlib.pyplot as plt\n"
   ]
  },
  {
   "cell_type": "code",
   "execution_count": 2,
   "id": "28461ec9-ac2f-4c7c-903e-71a567a1c4db",
   "metadata": {},
   "outputs": [],
   "source": [
    "# set up read directory with original data, write directory for reduced data\n",
    "\n",
    "src_dir = 'neurite-oasis.2d.v1.0'\n",
    "dst_dir = '2Dreg_traintestt'\n",
    "\n",
    "os.makedirs(dst_dir, exist_ok=False)\n",
    "\n",
    "os.makedirs(os.path.join(dst_dir, 'test'), exist_ok=False)\n",
    "os.makedirs(os.path.join(dst_dir, 'train'), exist_ok=False)"
   ]
  },
  {
   "cell_type": "code",
   "execution_count": 3,
   "id": "cc73c570-207c-44c9-a55d-32affb4018d7",
   "metadata": {},
   "outputs": [],
   "source": [
    "# read two needed files from each subject subdirectory, and reproduce the file structure in new dataset\n",
    "\n",
    "num_dir=0\n",
    "\n",
    "for item in os.listdir(src_dir):\n",
    "    item_path = os.path.join(src_dir, item)\n",
    "\n",
    "    # all subdirectories are subjects; reproduce the subdirectory and copy the two files needed\n",
    "    if os.path.isdir(item_path):\n",
    "\n",
    "        # divide into test, train set with 100 test samples, rest (314) train samples\n",
    "        if num_dir < 100:\n",
    "            subject_dir = os.path.join(dst_dir, 'test', item)\n",
    "            num_dir += 1\n",
    "\n",
    "        else:\n",
    "            subject_dir = os.path.join(dst_dir, 'train', item)\n",
    "\n",
    "        os.makedirs(subject_dir, exist_ok=False)\n",
    "\n",
    "        img_file = os.path.join(item_path, 'slice_norm.nii.gz')\n",
    "        seg_file = os.path.join(item_path, 'slice_seg24.nii.gz')\n",
    "\n",
    "        if os.path.exists(img_file):\n",
    "            shutil.copy(img_file, os.path.join(subject_dir, 'slice_norm.nii.gz'))\n",
    "\n",
    "        if os.path.exists(seg_file):\n",
    "            shutil.copy(seg_file, os.path.join(subject_dir, 'slice_seg24.nii.gz'))\n",
    "\n",
    "    # also copy the readme, .txt files with info on segmentation, subjects\n",
    "    elif os.path.isfile(item_path):\n",
    "        shutil.copy(item_path, os.path.join(dst_dir, item))\n",
    "        "
   ]
  },
  {
   "cell_type": "code",
   "execution_count": 9,
   "id": "ad7d2be5-cfb4-41c8-8a19-22513a7235de",
   "metadata": {},
   "outputs": [
    {
     "name": "stdout",
     "output_type": "stream",
     "text": [
      "Equal number of directories and lines in subjects.txt file?\n",
      "True\n"
     ]
    }
   ],
   "source": [
    "# check if the number of subjects is copied correctly\n",
    "# compare number of subdirectories copied and number of lines in subjects.txt\n",
    "\n",
    "num_subject_dirs = 0\n",
    "\n",
    "for item in os.listdir(dst_dir):\n",
    "    item_path = os.path.join(dst_dir, item)\n",
    "\n",
    "    # also have to scan through train, test subdirectories\n",
    "    if os.path.isdir(item_path):\n",
    "\n",
    "        for subdir in os.listdir(item_path):\n",
    "            subdir_path = os.path.join(item_path, subdir)\n",
    "            \n",
    "            if os.path.isdir(item_path):\n",
    "                num_subject_dirs +=1\n",
    "\n",
    "# read number of lines from subjects.txt file\n",
    "with open(r\"2Dreg_data/subjects.txt\", 'r') as fp:\n",
    "    num_subject_lines = len(fp.readlines())\n",
    "\n",
    "print(f'Equal number of directories and lines in subjects.txt file?\\n{num_subject_dirs==num_subject_lines}')\n"
   ]
  },
  {
   "cell_type": "code",
   "execution_count": null,
   "id": "8bd969f6-e8ed-4d32-9f3a-0b071c319b6b",
   "metadata": {},
   "outputs": [],
   "source": []
  }
 ],
 "metadata": {
  "kernelspec": {
   "display_name": "Python 3 (ipykernel)",
   "language": "python",
   "name": "python3"
  },
  "language_info": {
   "codemirror_mode": {
    "name": "ipython",
    "version": 3
   },
   "file_extension": ".py",
   "mimetype": "text/x-python",
   "name": "python",
   "nbconvert_exporter": "python",
   "pygments_lexer": "ipython3",
   "version": "3.9.20"
  }
 },
 "nbformat": 4,
 "nbformat_minor": 5
}
